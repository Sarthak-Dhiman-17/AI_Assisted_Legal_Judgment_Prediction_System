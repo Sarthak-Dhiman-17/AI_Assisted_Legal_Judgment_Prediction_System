{
 "cells": [
  {
   "cell_type": "code",
   "execution_count": 2,
   "id": "ceebdf5c",
   "metadata": {},
   "outputs": [
    {
     "name": "stdout",
     "output_type": "stream",
     "text": [
      "label\n",
      "dismissed    3675\n",
      "allowed      3168\n",
      "Name: count, dtype: int64\n"
     ]
    }
   ],
   "source": [
    "from data_processing.pdf_processor import PDFProcessor\n",
    "\n",
    "processor = PDFProcessor()\n",
    "df = processor.process_pdfs()\n",
    "print(df['label'].value_counts())\n"
   ]
  }
 ],
 "metadata": {
  "kernelspec": {
   "display_name": "Python 3",
   "language": "python",
   "name": "python3"
  },
  "language_info": {
   "codemirror_mode": {
    "name": "ipython",
    "version": 3
   },
   "file_extension": ".py",
   "mimetype": "text/x-python",
   "name": "python",
   "nbconvert_exporter": "python",
   "pygments_lexer": "ipython3",
   "version": "3.12.10"
  }
 },
 "nbformat": 4,
 "nbformat_minor": 5
}
